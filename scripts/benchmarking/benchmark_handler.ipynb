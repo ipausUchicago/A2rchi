{
 "cells": [
  {
   "cell_type": "code",
   "execution_count": 24,
   "id": "bd08b6a9",
   "metadata": {},
   "outputs": [],
   "source": [
    "from benchmark_handler_functions import display_functions, output_handler\n",
    "\n",
    "file = \"/home/submit/pmlugato/archi/test_fresh/benchmarking-eval-2025-09-29 18:13:15.775369.json\"\n",
    "handler = output_handler(file)\n",
    "\n",
    "dfs = handler.get_dfs()\n",
    "dfs_list = list(dfs.values())\n",
    "config_names = handler.get_config_names()\n",
    "df = dfs[config_names[0]]\n",
    "\n"
   ]
  },
  {
   "cell_type": "code",
   "execution_count": null,
   "id": "b0e9ad30",
   "metadata": {},
   "outputs": [],
   "source": [
    "display_functions.plot_bars_against_questions(df)\n"
   ]
  },
  {
   "cell_type": "code",
   "execution_count": null,
   "id": "29a4fc04",
   "metadata": {},
   "outputs": [],
   "source": [
    "# ========================================\n",
    "# SINGLE DF HISTOGRAM PLOTS USAGE EXAMPLES\n",
    "# ========================================\n",
    "\n",
    "# 1. Single metric histogram\n",
    "# display_functions.plot_single_metric_histogram(df, 'link_result_bools')\n",
    "\n",
    "# 2. All metrics in subplots\n",
    "display_functions.plot_all_metrics_histograms(df)\n",
    "\n",
    "# 3. Overlapped comparison\n",
    "# display_functions.plot_overlapped_histograms(df)\n",
    "\n",
    "# 4. Detailed analysis\n",
    "# display_functions.plot_metric_analysis(df, 'faithfulness')\n",
    "\n",
    "# 5. plot metrics as time series \n",
    "# metrics = [\"link_result_bools\", \"faithfulness\", \"answer_relevancy\", \"context_recall\", \"context_precision\"]\n",
    "# display_functions.plot_ragas_scores_time_series(df, metrics)\n",
    "\n"
   ]
  },
  {
   "cell_type": "code",
   "execution_count": null,
   "id": "4fd8bf08",
   "metadata": {},
   "outputs": [],
   "source": [
    "# ========================================\n",
    "# MULTI DF HISTOGRAM PLOTS USAGE EXAMPLES\n",
    "# ========================================\n",
    "\n",
    "# 6. Compare two datasets against eachother by metric with two different plots\n",
    "display_functions.plot_dfs_against_eachother(df, dfs[config_names[1]], 'context_precision')\n",
    "\n",
    "# 7. Compare multiple datasets against eachother by metric on the same plot \n",
    "# display_functions.plot_metrics_across_all_dfs(dfs, ['hugging face', 'also hugging face'], 'answer_relevancy')\n",
    "\n"
   ]
  }
 ],
 "metadata": {
  "kernelspec": {
   "display_name": "a2rchi-CLI",
   "language": "python",
   "name": "python3"
  },
  "language_info": {
   "codemirror_mode": {
    "name": "ipython",
    "version": 3
   },
   "file_extension": ".py",
   "mimetype": "text/x-python",
   "name": "python",
   "nbconvert_exporter": "python",
   "pygments_lexer": "ipython3",
   "version": "3.10.15"
  }
 },
 "nbformat": 4,
 "nbformat_minor": 5
}
